{
 "cells": [
  {
   "cell_type": "code",
   "execution_count": 51,
   "id": "608034f5-31f7-4910-9144-5d153934c310",
   "metadata": {},
   "outputs": [],
   "source": [
    "import pandas as pd\n",
    "import numpy as np\n",
    "import math\n",
    "from sklearn.datasets import fetch_california_housing\n",
    "from sklearn.ensemble import HistGradientBoostingRegressor\n",
    "import statistics as sts\n",
    "from sliceline.slicefinder import Slicefinder\n",
    "import optbinning\n",
    "from dt import *"
   ]
  },
  {
   "cell_type": "markdown",
   "id": "d8d7d7d4-de60-4493-8b01-fbb9a98ca8a1",
   "metadata": {},
   "source": [
    "**Reproducibility Notes**\n",
    "\n",
    "The PyPi `sliceline` package requires Python 3.7~3.10.0, which is not the most up-to-date python version. Creating a virtual environment with python 3.9 should work. "
   ]
  },
  {
   "cell_type": "markdown",
   "id": "f5bcd032-9b0c-4bad-9588-3ce4f2883e98",
   "metadata": {},
   "source": [
    "## Defining Reusable Methods"
   ]
  },
  {
   "cell_type": "markdown",
   "id": "b5eb3e8d-90b7-4a52-8904-71431ceaec38",
   "metadata": {},
   "source": [
    "### Data Manipulation"
   ]
  },
  {
   "cell_type": "code",
   "execution_count": 60,
   "id": "29af4dce-2955-41ae-90fe-9d6a6987cea8",
   "metadata": {},
   "outputs": [],
   "source": [
    "def parse_file(filename):\n",
    "    df = pd.read_csv(filename)\n",
    "    train_x, train_y = split_xy(df)\n",
    "    return train_x, train_y, df\n",
    "def split_xy(df):\n",
    "    train_y = df['median_house_value']\n",
    "    train_x = df.drop('median_house_value', axis=1)\n",
    "    return train_x, train_y"
   ]
  },
  {
   "cell_type": "markdown",
   "id": "711d8ab3-3642-472c-8eb9-63635045138c",
   "metadata": {},
   "source": [
    "### Model Training"
   ]
  },
  {
   "cell_type": "code",
   "execution_count": 10,
   "id": "8a61585a-010e-4da2-9792-176a6565f8e5",
   "metadata": {},
   "outputs": [],
   "source": [
    "def train_model(train_x, train_y):\n",
    "    model = HistGradientBoostingRegressor(random_state=42)\n",
    "    model.fit(train_x, train_y)\n",
    "    return model"
   ]
  },
  {
   "cell_type": "markdown",
   "id": "a3d634a1-d3ab-466c-8cf8-b9d5479dfa10",
   "metadata": {},
   "source": [
    "### Error Analysis"
   ]
  },
  {
   "cell_type": "code",
   "execution_count": 11,
   "id": "72c907bf-ae7c-4a0d-ab24-aabdb6e539e0",
   "metadata": {},
   "outputs": [],
   "source": [
    "def get_errors(model, x, y):\n",
    "    preds = model.predict(x)\n",
    "    training_errors = (y - preds)**2\n",
    "    return training_errors"
   ]
  },
  {
   "cell_type": "code",
   "execution_count": 13,
   "id": "4392f377-a6b3-4e8d-9c13-9c20e20d7d55",
   "metadata": {},
   "outputs": [],
   "source": [
    "def get_rms(arr):\n",
    "    means = sts.mean(arr)\n",
    "    rms = math.sqrt(means)\n",
    "    return rms"
   ]
  },
  {
   "cell_type": "code",
   "execution_count": 14,
   "id": "db5bcfc3-8c71-4326-b642-7bcd6157a45e",
   "metadata": {},
   "outputs": [],
   "source": [
    "def get_rms_error(model, x, y):\n",
    "    errors = get_errors(model, x, y)\n",
    "    return get_rms(errors)"
   ]
  },
  {
   "cell_type": "markdown",
   "id": "4c1ed445-9ef4-45ba-82c1-06f7628b5330",
   "metadata": {},
   "source": [
    "### Binning"
   ]
  },
  {
   "cell_type": "code",
   "execution_count": 20,
   "id": "cd9cccd4-c960-45f2-bb45-e56b84385238",
   "metadata": {},
   "outputs": [],
   "source": [
    "def bin_xs(train_x, train_errors):\n",
    "    optimal_binner = optbinning.ContinuousOptimalBinning(max_n_bins=5)\n",
    "    train_x_binned = pd.DataFrame(np.array(\n",
    "        [\n",
    "            optimal_binner.fit_transform(train_x[col], train_errors, metric=\"bins\") for col in train_x.columns\n",
    "        ]\n",
    "    ).T, columns=train_x.columns)\n",
    "    return train_x_binned"
   ]
  },
  {
   "cell_type": "markdown",
   "id": "08c46518-dffb-48c5-9555-755b5e5ea858",
   "metadata": {},
   "source": [
    "### Sliceliner"
   ]
  },
  {
   "cell_type": "code",
   "execution_count": 24,
   "id": "aa1bfca7-f913-4575-9ca2-634ca2630042",
   "metadata": {},
   "outputs": [],
   "source": [
    "def get_slices(train_x_binned, train_errors, alpha = 0.9, k=1, max_l = 3, min_sup = 0, verbose = False):\n",
    "    sf = Slicefinder(alpha = alpha, k = k, max_l = max_l, min_sup = min_sup, verbose = verbose)\n",
    "    sf.fit(train_x_binned, train_errors)\n",
    "    df = pd.DataFrame(sf.top_slices_, columns=sf.feature_names_in_, index=sf.get_feature_names_out())\n",
    "    return df"
   ]
  },
  {
   "cell_type": "code",
   "execution_count": 28,
   "id": "009f1f5f-4583-4ec8-980c-6e552e1242dd",
   "metadata": {},
   "outputs": [],
   "source": [
    "# Reformat slices returned from sliceliner as dataframe into a matrix of strings\n",
    "def reformat_slices(slice_df):\n",
    "    slice_df.fillna('(-inf, inf)', inplace=True)\n",
    "    return slice_df.values.tolist()"
   ]
  },
  {
   "cell_type": "markdown",
   "id": "32dc02db-3764-4495-b267-5b53d8de20bf",
   "metadata": {},
   "source": [
    "### Putting the Pipeline Together"
   ]
  },
  {
   "cell_type": "code",
   "execution_count": 45,
   "id": "efd15bc5-736f-4900-acaf-b07db9188117",
   "metadata": {},
   "outputs": [],
   "source": [
    "# Train a model, then get the underperforming slices\n",
    "def pipeline_train(train_x, train_y, test_x, test_y):\n",
    "    # Train model\n",
    "    model = train_model(train_x, train_y)\n",
    "    # Error analysis\n",
    "    train_errors = get_errors(model, train_x, train_y)\n",
    "    print(\"Train RMS error:\", get_rms(train_errors))\n",
    "    print(\"Test RMS error:\", get_rms(get_errors(model, test_x, test_y)))\n",
    "    # Binning\n",
    "    train_x_binned = bin_xs(train_x, train_errors)\n",
    "    # Sliceliner\n",
    "    slices = reformat_slices(get_slices(train_x_binned, train_errors, alpha = 0.9, max_l = 3, min_sup = 0, verbose = False))\n",
    "    return model, slices"
   ]
  },
  {
   "cell_type": "code",
   "execution_count": 36,
   "id": "412d2d4b-ca27-4950-8d80-61dfdb546ff8",
   "metadata": {},
   "outputs": [],
   "source": [
    "# Obtain additional data\n",
    "def pipeline_dt(sources, costs, slices, query_counts):\n",
    "    dt = DT(sources, costs, slices, None, batch=100)\n",
    "    additional_data = dt.run(query_counts)\n",
    "    return additional_data"
   ]
  },
  {
   "cell_type": "code",
   "execution_count": 68,
   "id": "6ece0af3-f67a-4769-8a13-a5b56ca0e8e7",
   "metadata": {},
   "outputs": [],
   "source": [
    "# Combine existing dataset with additional data\n",
    "def pipeline_augment(train_x, train_y, additional_data, features):\n",
    "    add_df = pd.DataFrame(additional_data, columns=features)\n",
    "    add_x, add_y = split_xy(add_df)\n",
    "    aug_x = pd.concat([train_x, add_x], ignore_index=True)\n",
    "    aug_y = pd.concat([train_y, add_y], ignore_index=True)\n",
    "    return aug_x, aug_y"
   ]
  },
  {
   "cell_type": "markdown",
   "id": "b6dee5eb-348a-4f7c-81e8-e72573c3d388",
   "metadata": {},
   "source": [
    "## Housing Data Example"
   ]
  },
  {
   "cell_type": "code",
   "execution_count": 71,
   "id": "188a28ed-a5a6-4e5c-8e4c-1a3bc4e72a89",
   "metadata": {},
   "outputs": [
    {
     "data": {
      "text/html": [
       "<div>\n",
       "<style scoped>\n",
       "    .dataframe tbody tr th:only-of-type {\n",
       "        vertical-align: middle;\n",
       "    }\n",
       "\n",
       "    .dataframe tbody tr th {\n",
       "        vertical-align: top;\n",
       "    }\n",
       "\n",
       "    .dataframe thead th {\n",
       "        text-align: right;\n",
       "    }\n",
       "</style>\n",
       "<table border=\"1\" class=\"dataframe\">\n",
       "  <thead>\n",
       "    <tr style=\"text-align: right;\">\n",
       "      <th></th>\n",
       "      <th>longitude</th>\n",
       "      <th>latitude</th>\n",
       "      <th>housing_median_age</th>\n",
       "      <th>total_rooms</th>\n",
       "      <th>total_bedrooms</th>\n",
       "      <th>population</th>\n",
       "      <th>households</th>\n",
       "      <th>median_income</th>\n",
       "    </tr>\n",
       "  </thead>\n",
       "  <tbody>\n",
       "    <tr>\n",
       "      <th>0</th>\n",
       "      <td>-118.30</td>\n",
       "      <td>33.90</td>\n",
       "      <td>19.0</td>\n",
       "      <td>2421.0</td>\n",
       "      <td>689.0</td>\n",
       "      <td>1726.0</td>\n",
       "      <td>660.0</td>\n",
       "      <td>3.2870</td>\n",
       "    </tr>\n",
       "    <tr>\n",
       "      <th>1</th>\n",
       "      <td>-118.30</td>\n",
       "      <td>33.99</td>\n",
       "      <td>44.0</td>\n",
       "      <td>1458.0</td>\n",
       "      <td>326.0</td>\n",
       "      <td>1159.0</td>\n",
       "      <td>283.0</td>\n",
       "      <td>1.1645</td>\n",
       "    </tr>\n",
       "    <tr>\n",
       "      <th>2</th>\n",
       "      <td>-122.07</td>\n",
       "      <td>37.06</td>\n",
       "      <td>31.0</td>\n",
       "      <td>1634.0</td>\n",
       "      <td>370.0</td>\n",
       "      <td>939.0</td>\n",
       "      <td>332.0</td>\n",
       "      <td>3.8625</td>\n",
       "    </tr>\n",
       "    <tr>\n",
       "      <th>3</th>\n",
       "      <td>-122.02</td>\n",
       "      <td>37.60</td>\n",
       "      <td>31.0</td>\n",
       "      <td>2155.0</td>\n",
       "      <td>522.0</td>\n",
       "      <td>1858.0</td>\n",
       "      <td>437.0</td>\n",
       "      <td>2.6520</td>\n",
       "    </tr>\n",
       "    <tr>\n",
       "      <th>4</th>\n",
       "      <td>-120.87</td>\n",
       "      <td>41.54</td>\n",
       "      <td>21.0</td>\n",
       "      <td>1091.0</td>\n",
       "      <td>208.0</td>\n",
       "      <td>660.0</td>\n",
       "      <td>188.0</td>\n",
       "      <td>2.2321</td>\n",
       "    </tr>\n",
       "    <tr>\n",
       "      <th>...</th>\n",
       "      <td>...</td>\n",
       "      <td>...</td>\n",
       "      <td>...</td>\n",
       "      <td>...</td>\n",
       "      <td>...</td>\n",
       "      <td>...</td>\n",
       "      <td>...</td>\n",
       "      <td>...</td>\n",
       "    </tr>\n",
       "    <tr>\n",
       "      <th>4123</th>\n",
       "      <td>-117.98</td>\n",
       "      <td>33.68</td>\n",
       "      <td>14.0</td>\n",
       "      <td>3396.0</td>\n",
       "      <td>477.0</td>\n",
       "      <td>1542.0</td>\n",
       "      <td>472.0</td>\n",
       "      <td>7.3982</td>\n",
       "    </tr>\n",
       "    <tr>\n",
       "      <th>4124</th>\n",
       "      <td>-119.45</td>\n",
       "      <td>35.07</td>\n",
       "      <td>45.0</td>\n",
       "      <td>973.0</td>\n",
       "      <td>183.0</td>\n",
       "      <td>500.0</td>\n",
       "      <td>177.0</td>\n",
       "      <td>2.6389</td>\n",
       "    </tr>\n",
       "    <tr>\n",
       "      <th>4125</th>\n",
       "      <td>-118.23</td>\n",
       "      <td>33.89</td>\n",
       "      <td>36.0</td>\n",
       "      <td>2598.0</td>\n",
       "      <td>514.0</td>\n",
       "      <td>1872.0</td>\n",
       "      <td>514.0</td>\n",
       "      <td>3.1667</td>\n",
       "    </tr>\n",
       "    <tr>\n",
       "      <th>4126</th>\n",
       "      <td>-121.48</td>\n",
       "      <td>38.52</td>\n",
       "      <td>34.0</td>\n",
       "      <td>2561.0</td>\n",
       "      <td>497.0</td>\n",
       "      <td>1583.0</td>\n",
       "      <td>530.0</td>\n",
       "      <td>3.1583</td>\n",
       "    </tr>\n",
       "    <tr>\n",
       "      <th>4127</th>\n",
       "      <td>-121.45</td>\n",
       "      <td>36.86</td>\n",
       "      <td>11.0</td>\n",
       "      <td>1613.0</td>\n",
       "      <td>335.0</td>\n",
       "      <td>1617.0</td>\n",
       "      <td>342.0</td>\n",
       "      <td>3.1375</td>\n",
       "    </tr>\n",
       "  </tbody>\n",
       "</table>\n",
       "<p>4128 rows × 8 columns</p>\n",
       "</div>"
      ],
      "text/plain": [
       "      longitude  latitude  housing_median_age  total_rooms  total_bedrooms  \\\n",
       "0       -118.30     33.90                19.0       2421.0           689.0   \n",
       "1       -118.30     33.99                44.0       1458.0           326.0   \n",
       "2       -122.07     37.06                31.0       1634.0           370.0   \n",
       "3       -122.02     37.60                31.0       2155.0           522.0   \n",
       "4       -120.87     41.54                21.0       1091.0           208.0   \n",
       "...         ...       ...                 ...          ...             ...   \n",
       "4123    -117.98     33.68                14.0       3396.0           477.0   \n",
       "4124    -119.45     35.07                45.0        973.0           183.0   \n",
       "4125    -118.23     33.89                36.0       2598.0           514.0   \n",
       "4126    -121.48     38.52                34.0       2561.0           497.0   \n",
       "4127    -121.45     36.86                11.0       1613.0           335.0   \n",
       "\n",
       "      population  households  median_income  \n",
       "0         1726.0       660.0         3.2870  \n",
       "1         1159.0       283.0         1.1645  \n",
       "2          939.0       332.0         3.8625  \n",
       "3         1858.0       437.0         2.6520  \n",
       "4          660.0       188.0         2.2321  \n",
       "...          ...         ...            ...  \n",
       "4123      1542.0       472.0         7.3982  \n",
       "4124       500.0       177.0         2.6389  \n",
       "4125      1872.0       514.0         3.1667  \n",
       "4126      1583.0       530.0         3.1583  \n",
       "4127      1617.0       342.0         3.1375  \n",
       "\n",
       "[4128 rows x 8 columns]"
      ]
     },
     "execution_count": 71,
     "metadata": {},
     "output_type": "execute_result"
    }
   ],
   "source": [
    "train_x, train_y, train = parse_file('data/housing0.csv')\n",
    "test_x, test_y, test = parse_file('data/housing1.csv')\n",
    "train_x"
   ]
  },
  {
   "cell_type": "code",
   "execution_count": 62,
   "id": "6d1a68e7-da88-422b-a1bf-a22b98433604",
   "metadata": {},
   "outputs": [
    {
     "name": "stdout",
     "output_type": "stream",
     "text": [
      "Train RMS error: 35085.96794454075\n",
      "Test RMS error: 52174.79239835969\n"
     ]
    },
    {
     "name": "stderr",
     "output_type": "stream",
     "text": [
      "/home/jwc/miniconda3/envs/sliceline-venv/lib/python3.9/site-packages/sliceline/validation.py:457: FutureWarning: is_sparse is deprecated and will be removed in a future version. Check `isinstance(dtype, pd.SparseDtype)` instead.\n",
      "  and array.dtypes.apply(is_sparse).any()\n",
      "/home/jwc/miniconda3/envs/sliceline-venv/lib/python3.9/site-packages/sliceline/validation.py:294: FutureWarning: is_sparse is deprecated and will be removed in a future version. Check `isinstance(dtype, pd.SparseDtype)` instead.\n",
      "  if is_sparse(pd_dtype):\n",
      "/home/jwc/miniconda3/envs/sliceline-venv/lib/python3.9/site-packages/sliceline/validation.py:303: FutureWarning: is_sparse is deprecated and will be removed in a future version. Check `isinstance(dtype, pd.SparseDtype)` instead.\n",
      "  if is_sparse(pd_dtype) or not is_extension_array_dtype(pd_dtype):\n",
      "/home/jwc/miniconda3/envs/sliceline-venv/lib/python3.9/site-packages/sliceline/slicefinder.py:329: RuntimeWarning: divide by zero encountered in divide\n",
      "  (\n",
      "/home/jwc/miniconda3/envs/sliceline-venv/lib/python3.9/site-packages/sliceline/slicefinder.py:365: RuntimeWarning: invalid value encountered in divide\n",
      "  (slice_errors / slice_sizes) / self.average_error_ - 1\n",
      "/home/jwc/miniconda3/envs/sliceline-venv/lib/python3.9/site-packages/sliceline/slicefinder.py:366: RuntimeWarning: divide by zero encountered in divide\n",
      "  ) - (1 - self.alpha) * (n_row_x_encoded / slice_sizes - 1)\n"
     ]
    },
    {
     "data": {
      "text/plain": [
       "[['(-inf, inf)',\n",
       "  '(-inf, inf)',\n",
       "  '(-inf, inf)',\n",
       "  '(-inf, inf)',\n",
       "  '(-inf, inf)',\n",
       "  '(-inf, inf)',\n",
       "  '(-inf, inf)',\n",
       "  '[2.60, inf)']]"
      ]
     },
     "execution_count": 62,
     "metadata": {},
     "output_type": "execute_result"
    }
   ],
   "source": [
    "model, slices = pipeline_train(train_x, train_y, test_x, test_y)\n",
    "slices"
   ]
  },
  {
   "cell_type": "code",
   "execution_count": 63,
   "id": "86876618-cd46-4096-b801-b18b5a880704",
   "metadata": {},
   "outputs": [],
   "source": [
    "sources = [\n",
    "    'data/housing2.csv',\n",
    "    'data/housing3.csv',\n",
    "    'data/housing4.csv'\n",
    "]\n",
    "costs = [1.0, 1.0, 1.0]"
   ]
  },
  {
   "cell_type": "code",
   "execution_count": 64,
   "id": "b11cac8c-64f7-4e4b-8de6-947219649f29",
   "metadata": {},
   "outputs": [],
   "source": [
    "# We will consider only one slice\n",
    "# median income in [2.60, inf)\n",
    "query_counts = [ 50 ]"
   ]
  },
  {
   "cell_type": "code",
   "execution_count": 65,
   "id": "131dbc40-d03a-48a1-823d-363d35e2bcae",
   "metadata": {},
   "outputs": [],
   "source": [
    "additional_data = pipeline_dt(sources, costs, slices, query_counts)"
   ]
  },
  {
   "cell_type": "code",
   "execution_count": 69,
   "id": "d224e7ea-6667-4322-97f8-fcd8a4e94150",
   "metadata": {},
   "outputs": [],
   "source": [
    "aug_x, aug_y = pipeline_augment(train_x, train_y, additional_data, train.columns)"
   ]
  },
  {
   "cell_type": "code",
   "execution_count": 73,
   "id": "efe7244c-a9b2-453a-b656-bc56964b78a0",
   "metadata": {},
   "outputs": [
    {
     "name": "stdout",
     "output_type": "stream",
     "text": [
      "Train RMS error: 35359.47987203146\n",
      "Test RMS error: 52390.95011486408\n"
     ]
    },
    {
     "name": "stderr",
     "output_type": "stream",
     "text": [
      "/home/jwc/miniconda3/envs/sliceline-venv/lib/python3.9/site-packages/sliceline/validation.py:457: FutureWarning: is_sparse is deprecated and will be removed in a future version. Check `isinstance(dtype, pd.SparseDtype)` instead.\n",
      "  and array.dtypes.apply(is_sparse).any()\n",
      "/home/jwc/miniconda3/envs/sliceline-venv/lib/python3.9/site-packages/sliceline/validation.py:294: FutureWarning: is_sparse is deprecated and will be removed in a future version. Check `isinstance(dtype, pd.SparseDtype)` instead.\n",
      "  if is_sparse(pd_dtype):\n",
      "/home/jwc/miniconda3/envs/sliceline-venv/lib/python3.9/site-packages/sliceline/validation.py:303: FutureWarning: is_sparse is deprecated and will be removed in a future version. Check `isinstance(dtype, pd.SparseDtype)` instead.\n",
      "  if is_sparse(pd_dtype) or not is_extension_array_dtype(pd_dtype):\n",
      "/home/jwc/miniconda3/envs/sliceline-venv/lib/python3.9/site-packages/sliceline/slicefinder.py:329: RuntimeWarning: divide by zero encountered in divide\n",
      "  (\n",
      "/home/jwc/miniconda3/envs/sliceline-venv/lib/python3.9/site-packages/sliceline/slicefinder.py:365: RuntimeWarning: invalid value encountered in divide\n",
      "  (slice_errors / slice_sizes) / self.average_error_ - 1\n",
      "/home/jwc/miniconda3/envs/sliceline-venv/lib/python3.9/site-packages/sliceline/slicefinder.py:366: RuntimeWarning: divide by zero encountered in divide\n",
      "  ) - (1 - self.alpha) * (n_row_x_encoded / slice_sizes - 1)\n"
     ]
    },
    {
     "data": {
      "text/plain": [
       "[['[-122.37, -118.28)',\n",
       "  '[33.89, 37.95)',\n",
       "  '(-inf, inf)',\n",
       "  '(-inf, inf)',\n",
       "  '(-inf, inf)',\n",
       "  '(-inf, inf)',\n",
       "  '(-inf, inf)',\n",
       "  '(-inf, inf)']]"
      ]
     },
     "execution_count": 73,
     "metadata": {},
     "output_type": "execute_result"
    }
   ],
   "source": [
    "model, slices = pipeline_train(aug_x, aug_y, test_x, test_y)\n",
    "slices"
   ]
  },
  {
   "cell_type": "code",
   "execution_count": 77,
   "id": "0aaeb05c-7c77-4a83-b236-ab0b01a7262c",
   "metadata": {},
   "outputs": [],
   "source": [
    "additional_data = pipeline_dt(sources, costs, slices, query_counts)"
   ]
  },
  {
   "cell_type": "code",
   "execution_count": 78,
   "id": "b0f1fe71-ce7f-47ab-b73e-840ad20758b7",
   "metadata": {},
   "outputs": [
    {
     "data": {
      "text/html": [
       "<div>\n",
       "<style scoped>\n",
       "    .dataframe tbody tr th:only-of-type {\n",
       "        vertical-align: middle;\n",
       "    }\n",
       "\n",
       "    .dataframe tbody tr th {\n",
       "        vertical-align: top;\n",
       "    }\n",
       "\n",
       "    .dataframe thead th {\n",
       "        text-align: right;\n",
       "    }\n",
       "</style>\n",
       "<table border=\"1\" class=\"dataframe\">\n",
       "  <thead>\n",
       "    <tr style=\"text-align: right;\">\n",
       "      <th></th>\n",
       "      <th>longitude</th>\n",
       "      <th>latitude</th>\n",
       "      <th>housing_median_age</th>\n",
       "      <th>total_rooms</th>\n",
       "      <th>total_bedrooms</th>\n",
       "      <th>population</th>\n",
       "      <th>households</th>\n",
       "      <th>median_income</th>\n",
       "    </tr>\n",
       "  </thead>\n",
       "  <tbody>\n",
       "    <tr>\n",
       "      <th>0</th>\n",
       "      <td>-118.30</td>\n",
       "      <td>33.90</td>\n",
       "      <td>19.0</td>\n",
       "      <td>2421.0</td>\n",
       "      <td>689.0</td>\n",
       "      <td>1726.0</td>\n",
       "      <td>660.0</td>\n",
       "      <td>3.2870</td>\n",
       "    </tr>\n",
       "    <tr>\n",
       "      <th>1</th>\n",
       "      <td>-118.30</td>\n",
       "      <td>33.99</td>\n",
       "      <td>44.0</td>\n",
       "      <td>1458.0</td>\n",
       "      <td>326.0</td>\n",
       "      <td>1159.0</td>\n",
       "      <td>283.0</td>\n",
       "      <td>1.1645</td>\n",
       "    </tr>\n",
       "    <tr>\n",
       "      <th>2</th>\n",
       "      <td>-122.07</td>\n",
       "      <td>37.06</td>\n",
       "      <td>31.0</td>\n",
       "      <td>1634.0</td>\n",
       "      <td>370.0</td>\n",
       "      <td>939.0</td>\n",
       "      <td>332.0</td>\n",
       "      <td>3.8625</td>\n",
       "    </tr>\n",
       "    <tr>\n",
       "      <th>3</th>\n",
       "      <td>-122.02</td>\n",
       "      <td>37.60</td>\n",
       "      <td>31.0</td>\n",
       "      <td>2155.0</td>\n",
       "      <td>522.0</td>\n",
       "      <td>1858.0</td>\n",
       "      <td>437.0</td>\n",
       "      <td>2.6520</td>\n",
       "    </tr>\n",
       "    <tr>\n",
       "      <th>4</th>\n",
       "      <td>-120.87</td>\n",
       "      <td>41.54</td>\n",
       "      <td>21.0</td>\n",
       "      <td>1091.0</td>\n",
       "      <td>208.0</td>\n",
       "      <td>660.0</td>\n",
       "      <td>188.0</td>\n",
       "      <td>2.2321</td>\n",
       "    </tr>\n",
       "    <tr>\n",
       "      <th>...</th>\n",
       "      <td>...</td>\n",
       "      <td>...</td>\n",
       "      <td>...</td>\n",
       "      <td>...</td>\n",
       "      <td>...</td>\n",
       "      <td>...</td>\n",
       "      <td>...</td>\n",
       "      <td>...</td>\n",
       "    </tr>\n",
       "    <tr>\n",
       "      <th>4423</th>\n",
       "      <td>-117.21</td>\n",
       "      <td>34.11</td>\n",
       "      <td>27.0</td>\n",
       "      <td>1245.0</td>\n",
       "      <td>229.0</td>\n",
       "      <td>692.0</td>\n",
       "      <td>234.0</td>\n",
       "      <td>3.2176</td>\n",
       "    </tr>\n",
       "    <tr>\n",
       "      <th>4424</th>\n",
       "      <td>-118.02</td>\n",
       "      <td>33.85</td>\n",
       "      <td>31.0</td>\n",
       "      <td>1922.0</td>\n",
       "      <td>329.0</td>\n",
       "      <td>1030.0</td>\n",
       "      <td>353.0</td>\n",
       "      <td>5.3416</td>\n",
       "    </tr>\n",
       "    <tr>\n",
       "      <th>4425</th>\n",
       "      <td>-122.44</td>\n",
       "      <td>37.80</td>\n",
       "      <td>52.0</td>\n",
       "      <td>3830.0</td>\n",
       "      <td>NaN</td>\n",
       "      <td>1310.0</td>\n",
       "      <td>963.0</td>\n",
       "      <td>3.4801</td>\n",
       "    </tr>\n",
       "    <tr>\n",
       "      <th>4426</th>\n",
       "      <td>-122.16</td>\n",
       "      <td>37.70</td>\n",
       "      <td>36.0</td>\n",
       "      <td>1097.0</td>\n",
       "      <td>208.0</td>\n",
       "      <td>568.0</td>\n",
       "      <td>225.0</td>\n",
       "      <td>2.9917</td>\n",
       "    </tr>\n",
       "    <tr>\n",
       "      <th>4427</th>\n",
       "      <td>-121.95</td>\n",
       "      <td>37.35</td>\n",
       "      <td>52.0</td>\n",
       "      <td>2382.0</td>\n",
       "      <td>523.0</td>\n",
       "      <td>1096.0</td>\n",
       "      <td>492.0</td>\n",
       "      <td>4.2656</td>\n",
       "    </tr>\n",
       "  </tbody>\n",
       "</table>\n",
       "<p>4428 rows × 8 columns</p>\n",
       "</div>"
      ],
      "text/plain": [
       "      longitude  latitude  housing_median_age  total_rooms  total_bedrooms  \\\n",
       "0       -118.30     33.90                19.0       2421.0           689.0   \n",
       "1       -118.30     33.99                44.0       1458.0           326.0   \n",
       "2       -122.07     37.06                31.0       1634.0           370.0   \n",
       "3       -122.02     37.60                31.0       2155.0           522.0   \n",
       "4       -120.87     41.54                21.0       1091.0           208.0   \n",
       "...         ...       ...                 ...          ...             ...   \n",
       "4423    -117.21     34.11                27.0       1245.0           229.0   \n",
       "4424    -118.02     33.85                31.0       1922.0           329.0   \n",
       "4425    -122.44     37.80                52.0       3830.0             NaN   \n",
       "4426    -122.16     37.70                36.0       1097.0           208.0   \n",
       "4427    -121.95     37.35                52.0       2382.0           523.0   \n",
       "\n",
       "      population  households  median_income  \n",
       "0         1726.0       660.0         3.2870  \n",
       "1         1159.0       283.0         1.1645  \n",
       "2          939.0       332.0         3.8625  \n",
       "3         1858.0       437.0         2.6520  \n",
       "4          660.0       188.0         2.2321  \n",
       "...          ...         ...            ...  \n",
       "4423       692.0       234.0         3.2176  \n",
       "4424      1030.0       353.0         5.3416  \n",
       "4425      1310.0       963.0         3.4801  \n",
       "4426       568.0       225.0         2.9917  \n",
       "4427      1096.0       492.0         4.2656  \n",
       "\n",
       "[4428 rows x 8 columns]"
      ]
     },
     "execution_count": 78,
     "metadata": {},
     "output_type": "execute_result"
    }
   ],
   "source": [
    "aug_x, aug_y = pipeline_augment(aug_x, aug_y, additional_data, train.columns)\n",
    "aug_x"
   ]
  },
  {
   "cell_type": "code",
   "execution_count": 79,
   "id": "6a35ce36-5de7-4747-b254-7d737c6eaf0a",
   "metadata": {},
   "outputs": [
    {
     "name": "stdout",
     "output_type": "stream",
     "text": [
      "Train RMS error: 35410.66330555648\n",
      "Test RMS error: 52201.81100194593\n"
     ]
    },
    {
     "name": "stderr",
     "output_type": "stream",
     "text": [
      "/home/jwc/miniconda3/envs/sliceline-venv/lib/python3.9/site-packages/sliceline/validation.py:457: FutureWarning: is_sparse is deprecated and will be removed in a future version. Check `isinstance(dtype, pd.SparseDtype)` instead.\n",
      "  and array.dtypes.apply(is_sparse).any()\n",
      "/home/jwc/miniconda3/envs/sliceline-venv/lib/python3.9/site-packages/sliceline/validation.py:294: FutureWarning: is_sparse is deprecated and will be removed in a future version. Check `isinstance(dtype, pd.SparseDtype)` instead.\n",
      "  if is_sparse(pd_dtype):\n",
      "/home/jwc/miniconda3/envs/sliceline-venv/lib/python3.9/site-packages/sliceline/validation.py:303: FutureWarning: is_sparse is deprecated and will be removed in a future version. Check `isinstance(dtype, pd.SparseDtype)` instead.\n",
      "  if is_sparse(pd_dtype) or not is_extension_array_dtype(pd_dtype):\n",
      "/home/jwc/miniconda3/envs/sliceline-venv/lib/python3.9/site-packages/sliceline/slicefinder.py:329: RuntimeWarning: divide by zero encountered in divide\n",
      "  (\n",
      "/home/jwc/miniconda3/envs/sliceline-venv/lib/python3.9/site-packages/sliceline/slicefinder.py:365: RuntimeWarning: invalid value encountered in divide\n",
      "  (slice_errors / slice_sizes) / self.average_error_ - 1\n",
      "/home/jwc/miniconda3/envs/sliceline-venv/lib/python3.9/site-packages/sliceline/slicefinder.py:366: RuntimeWarning: divide by zero encountered in divide\n",
      "  ) - (1 - self.alpha) * (n_row_x_encoded / slice_sizes - 1)\n"
     ]
    },
    {
     "data": {
      "text/plain": [
       "[['(-inf, inf)',\n",
       "  '(-inf, inf)',\n",
       "  '(-inf, 26.50)',\n",
       "  '(-inf, inf)',\n",
       "  '(-inf, inf)',\n",
       "  '(-inf, inf)',\n",
       "  '(-inf, inf)',\n",
       "  '(-inf, inf)']]"
      ]
     },
     "execution_count": 79,
     "metadata": {},
     "output_type": "execute_result"
    }
   ],
   "source": [
    "model, slices = pipeline_train(aug_x, aug_y, test_x, test_y)\n",
    "slices"
   ]
  },
  {
   "cell_type": "code",
   "execution_count": null,
   "id": "1bd7ce08-c57c-4e76-b141-eeb68f70a5f5",
   "metadata": {},
   "outputs": [],
   "source": []
  }
 ],
 "metadata": {
  "kernelspec": {
   "display_name": "Python 3 (ipykernel)",
   "language": "python",
   "name": "python3"
  },
  "language_info": {
   "codemirror_mode": {
    "name": "ipython",
    "version": 3
   },
   "file_extension": ".py",
   "mimetype": "text/x-python",
   "name": "python",
   "nbconvert_exporter": "python",
   "pygments_lexer": "ipython3",
   "version": "3.9.18"
  }
 },
 "nbformat": 4,
 "nbformat_minor": 5
}
